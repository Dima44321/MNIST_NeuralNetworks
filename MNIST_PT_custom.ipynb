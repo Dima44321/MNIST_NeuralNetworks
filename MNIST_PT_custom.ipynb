{
 "cells": [
  {
   "cell_type": "code",
   "execution_count": 1,
   "metadata": {},
   "outputs": [],
   "source": [
    "import torch\n",
    "import torch.nn as nn\n",
    "import torch.nn.functional as F\n",
    "import matplotlib.pyplot as plt\n",
    "import numpy as np\n",
    "import torchvision"
   ]
  },
  {
   "cell_type": "code",
   "execution_count": 3,
   "metadata": {},
   "outputs": [],
   "source": [
    "#Use bilinear interpolation to resize images to 64 square\n",
    "size = 64\n",
    "transform = torchvision.transforms.Compose([\n",
    "    torchvision.transforms.Resize(size),\n",
    "    torchvision.transforms.ToTensor()\n",
    "])\n",
    "\n",
    "#load dataset and init dataloader\n",
    "mnist_dset_train = torchvision.datasets.MNIST(root = './data/MNIST/', download=True, train = True, transform = transform)\n",
    "batch_size = 128\n",
    "mnist_DL = torch.utils.data.DataLoader(mnist_dset_train, shuffle=True, batch_size=batch_size)"
   ]
  },
  {
   "cell_type": "code",
   "execution_count": 4,
   "metadata": {},
   "outputs": [],
   "source": [
    "#convert labels to one-hot\n",
    "def to_oneHot(x, num_classes = 10):\n",
    "    size = x.shape[0]\n",
    "    x = x.view(size,1,1)\n",
    "    return torch.zeros(size, num_classes,1).scatter(1,x,1)"
   ]
  },
  {
   "cell_type": "code",
   "execution_count": 5,
   "metadata": {},
   "outputs": [
    {
     "name": "stdout",
     "output_type": "stream",
     "text": [
      "Images: torch.Size([128, 1, 64, 64])\n",
      "Labels: torch.Size([128])\n"
     ]
    },
    {
     "data": {
      "text/plain": [
       "<matplotlib.image.AxesImage at 0x1f4eae90198>"
      ]
     },
     "execution_count": 5,
     "metadata": {},
     "output_type": "execute_result"
    },
    {
     "data": {
      "image/png": "[encoded data removed]",
      "text/plain": [
       "<Figure size 432x288 with 1 Axes>"
      ]
     },
     "metadata": {
      "needs_background": "light"
     },
     "output_type": "display_data"
    }
   ],
   "source": [
    "#show sample\n",
    "sample = next(iter(mnist_DL))\n",
    "print('Images:', sample[0].shape)\n",
    "print('Labels:', sample[1].shape)\n",
    "plt.imshow(sample[0][0,0])"
   ]
  },
  {
   "cell_type": "code",
   "execution_count": 48,
   "metadata": {},
   "outputs": [],
   "source": [
    "#num features\n",
    "nf = 64\n",
    "\n",
    "#use GPU if available \n",
    "device = torch.device('cuda:0' if torch.cuda.is_available() else 'cpu')\n",
    "\n",
    "#Build convolutional neural network\n",
    "class MNIST_classifier(nn.Module):\n",
    "    def __init__(self):\n",
    "        super(MNIST_classifier, self).__init__() #init MNIST_classifier's superclass\n",
    "        \n",
    "        self.conv = nn.Sequential(\n",
    "            nn.Conv2d(1, nf, 4, 2, 1), #out 32\n",
    "            nn.BatchNorm2d(nf),\n",
    "            nn.LeakyReLU(0.2, inplace=True),\n",
    "            \n",
    "            nn.Conv2d(nf, nf*2, 4, 2, 1), #out 16\n",
    "            nn.BatchNorm2d(nf*2),\n",
    "            nn.LeakyReLU(0.2, inplace=True),\n",
    "            \n",
    "            nn.Conv2d(nf*2, nf*4, 4, 2, 1), #out 8\n",
    "            nn.BatchNorm2d(nf*4),\n",
    "            nn.LeakyReLU(0.2, inplace=True),\n",
    "            \n",
    "            nn.Conv2d(nf*4, nf*2, 4, 2, 1), #out 4\n",
    "            nn.BatchNorm2d(nf*2),\n",
    "            nn.LeakyReLU(0.2, inplace=True),\n",
    "            \n",
    "            nn.Conv2d(nf*2, nf, 4, 2, 1), #out 2\n",
    "            nn.BatchNorm2d(nf),\n",
    "            nn.LeakyReLU(0.2, inplace=True),\n",
    "        )\n",
    "        \n",
    "        self.lin = nn.Sequential(\n",
    "            nn.Linear(nf*4, 10),\n",
    "            nn.Sigmoid()\n",
    "        )\n",
    "        \n",
    "    def forward(self, x):\n",
    "        x = self.conv(x)\n",
    "        x = x.view(-1, nf*4)\n",
    "        return self.lin(x)\n"
   ]
  },
  {
   "cell_type": "code",
   "execution_count": 8,
   "metadata": {},
   "outputs": [
    {
     "data": {
      "text/plain": [
       "torch.Size([128, 10])"
      ]
     },
     "execution_count": 8,
     "metadata": {},
     "output_type": "execute_result"
    }
   ],
   "source": [
    "#initialize and test network\n",
    "net = MNIST_classifier().to(device)\n",
    "net(sample[0].to(device)).shape"
   ]
  },
  {
   "cell_type": "code",
   "execution_count": 9,
   "metadata": {},
   "outputs": [],
   "source": [
    "#initialize error function and optimizer\n",
    "opt = torch.optim.Adam(net.parameters(), betas=(0.5, 0.999), lr = 0.01)\n",
    "error = torch.nn.BCELoss()"
   ]
  },
  {
   "cell_type": "code",
   "execution_count": 10,
   "metadata": {},
   "outputs": [
    {
     "name": "stdout",
     "output_type": "stream",
     "text": [
      "Epoch: 0/5     Iter: 0     Loss: 0.6914423108100891\n",
      "Epoch: 0/5     Iter: 100     Loss: 0.020476361736655235\n",
      "Epoch: 0/5     Iter: 200     Loss: 0.011427117511630058\n",
      "Epoch: 0/5     Iter: 300     Loss: 0.010736871510744095\n",
      "Epoch: 0/5     Iter: 400     Loss: 0.02653830125927925\n",
      "Epoch: 1/5     Iter: 500     Loss: 0.021647626534104347\n",
      "Epoch: 1/5     Iter: 600     Loss: 0.004777188412845135\n",
      "Epoch: 1/5     Iter: 700     Loss: 0.008201416581869125\n",
      "Epoch: 1/5     Iter: 800     Loss: 0.0020560026168823242\n",
      "Epoch: 1/5     Iter: 900     Loss: 0.0029505742713809013\n",
      "Epoch: 2/5     Iter: 1000     Loss: 0.008588855154812336\n",
      "Epoch: 2/5     Iter: 1100     Loss: 0.0056138308718800545\n",
      "Epoch: 2/5     Iter: 1200     Loss: 0.003575171111151576\n",
      "Epoch: 2/5     Iter: 1300     Loss: 0.006421943195164204\n",
      "Epoch: 2/5     Iter: 1400     Loss: 0.007238081656396389\n",
      "Epoch: 3/5     Iter: 1500     Loss: 0.0029742345213890076\n",
      "Epoch: 3/5     Iter: 1600     Loss: 0.008843369781970978\n",
      "Epoch: 3/5     Iter: 1700     Loss: 0.013552914373576641\n",
      "Epoch: 3/5     Iter: 1800     Loss: 0.001970539800822735\n",
      "Epoch: 4/5     Iter: 1900     Loss: 0.0017231082310900092\n",
      "Epoch: 4/5     Iter: 2000     Loss: 0.005910317413508892\n",
      "Epoch: 4/5     Iter: 2100     Loss: 0.002211120445281267\n",
      "Epoch: 4/5     Iter: 2200     Loss: 0.004645746201276779\n",
      "Epoch: 4/5     Iter: 2300     Loss: 0.0038315686397254467\n"
     ]
    }
   ],
   "source": [
    "#training parameters\n",
    "epochs = 5\n",
    "iters = 0\n",
    "iters_cycle = 100\n",
    "\n",
    "#save losses\n",
    "losses = []\n",
    "\n",
    "#train\n",
    "for epoch in range(epochs):\n",
    "    #iterate through dataloader\n",
    "    for batch in mnist_DL:\n",
    "        #separate batch into labels and images\n",
    "        images = batch[0].to(device)\n",
    "        labels = batch[1]\n",
    "        \n",
    "        #convert labels to one-hot\n",
    "        labels = to_oneHot(labels).to(device)[:,:,0]\n",
    "        \n",
    "        #make predictions\n",
    "        pred = net(images)\n",
    "        \n",
    "        #calculate loss\n",
    "        loss = error(pred, labels)\n",
    "        \n",
    "        #backpropagate gradients with Adam algorithm\n",
    "        loss.backward()\n",
    "        opt.step()\n",
    "        \n",
    "        #set gradients to zero\n",
    "        net.zero_grad()\n",
    "        \n",
    "        #save losses\n",
    "        losses.append(loss.item())\n",
    "        \n",
    "        #log progress\n",
    "        if iters%iters_cycle==0:    \n",
    "            print('Epoch: {}/{}     Iter: {}     Loss: {}'.format(epoch, epochs, iters, loss.item()))\n",
    "        iters +=1"
   ]
  },
  {
   "cell_type": "code",
   "execution_count": 11,
   "metadata": {},
   "outputs": [
    {
     "data": {
      "text/plain": [
       "[<matplotlib.lines.Line2D at 0x1f48a92ad68>]"
      ]
     },
     "execution_count": 11,
     "metadata": {},
     "output_type": "execute_result"
    },
    {
     "data": {
      "image/png": "[encoded data removed]",
      "text/plain": [
       "<Figure size 432x288 with 1 Axes>"
      ]
     },
     "metadata": {
      "needs_background": "light"
     },
     "output_type": "display_data"
    }
   ],
   "source": [
    "#plot loss curve \n",
    "plt.plot(losses)"
   ]
  },
  {
   "cell_type": "code",
   "execution_count": 1,
   "metadata": {},
   "outputs": [],
   "source": [
    "#Evaluate accuracy using one-hot encoded predictions\n",
    "def testAccuracy(model, test_set, cpu = 'False'):\n",
    "    #set device\n",
    "    if cpu == True:\n",
    "        dev = torch.device('cpu')\n",
    "    else:\n",
    "        dev = torch.device('cuda:0')\n",
    "    model = model.to(dev)\n",
    "    test_images = test_set[0].to(dev)\n",
    "    test_labels = test_set[1].to(dev)\n",
    "    \n",
    "    #make predictions\n",
    "    with torch.no_grad(): \n",
    "        model_pred = model(test_images).cpu().numpy() \n",
    "        \n",
    "    #Count number of correct predictions    \n",
    "    correct = 0\n",
    "    total = test_labels.shape[0]\n",
    "    for i, prediction in enumerate(model_pred):\n",
    "        if test_labels[i]==np.argmax(prediction):\n",
    "            correct += 1\n",
    "            \n",
    "    #revert model to global device\n",
    "    model=model.to(device)\n",
    "    \n",
    "    #print accuracy\n",
    "    return print('Accuracy across {} samples: {}%'.format(test_labels.shape[0], correct/total*100))"
   ]
  },
  {
   "cell_type": "code",
   "execution_count": 63,
   "metadata": {
    "scrolled": true
   },
   "outputs": [
    {
     "name": "stdout",
     "output_type": "stream",
     "text": [
      "Accuracy across 10000 samples: 98.9%\n"
     ]
    }
   ],
   "source": [
    "#Create test dataset and load into dataloader\n",
    "mnist_dset_test = torchvision.datasets.MNIST(root = './data/MNIST/', download=True, train = False, transform = transform)\n",
    "num_samples = 10000\n",
    "mnist_DL_test = torch.utils.data.DataLoader(mnist_dset_test, shuffle=True, batch_size=num_samples)\n",
    "\n",
    "#Evaluate accuracy on test set\n",
    "test_set= next(iter(mnist_DL_test))\n",
    "testAccuracy(net, test_set, cpu = True)"
   ]
  },
  {
   "cell_type": "code",
   "execution_count": 64,
   "metadata": {},
   "outputs": [
    {
     "name": "stdout",
     "output_type": "stream",
     "text": [
      "Label: 7\n",
      "Prediction: 7\n"
     ]
    },
    {
     "data": {
      "text/plain": [
       "<matplotlib.image.AxesImage at 0x1f4de6f12b0>"
      ]
     },
     "execution_count": 64,
     "metadata": {},
     "output_type": "execute_result"
    },
    {
     "data": {
      "image/png": "[encoded data removed]",
      "text/plain": [
       "<Figure size 432x288 with 1 Axes>"
      ]
     },
     "metadata": {
      "needs_background": "light"
     },
     "output_type": "display_data"
    }
   ],
   "source": [
    "#display sample with label and prediction\n",
    "sample = next(iter(mnist_DL))\n",
    "print('Label:', sample[1][0].item())\n",
    "print('Prediction:', torch.argmax(net(sample[0].to(device))[0]).item())\n",
    "plt.imshow(sample[0][0,0])"
   ]
  },
  {
   "cell_type": "code",
   "execution_count": 24,
   "metadata": {},
   "outputs": [],
   "source": []
  }
 ],
 "metadata": {
  "kernelspec": {
   "display_name": "Python 3",
   "language": "python",
   "name": "python3"
  },
  "language_info": {
   "codemirror_mode": {
    "name": "ipython",
    "version": 3
   },
   "file_extension": ".py",
   "mimetype": "text/x-python",
   "name": "python",
   "nbconvert_exporter": "python",
   "pygments_lexer": "ipython3",
   "version": "3.7.1"
  }
 },
 "nbformat": 4,
 "nbformat_minor": 2
}
